{
 "cells": [
  {
   "cell_type": "markdown",
   "metadata": {},
   "source": [
    "write a program to sum up all the items in a list."
   ]
  },
  {
   "cell_type": "code",
   "execution_count": 1,
   "metadata": {},
   "outputs": [
    {
     "name": "stdout",
     "output_type": "stream",
     "text": [
      "sum of all elements in given list: 67\n"
     ]
    }
   ],
   "source": [
    "total = 0\n",
    "#creating a list\n",
    "list1 = [5,25,1,24,12]\n",
    "#Iterate each element in list\n",
    "#and add them in variable total\n",
    "for ele in range (0,len(list1)):\n",
    "      total = total + list1[ele]\n",
    "        \n",
    "#printing tool value\n",
    "print(\"sum of all elements in given list:\", total)\n",
    "\n"
   ]
  },
  {
   "cell_type": "markdown",
   "metadata": {},
   "source": [
    "write a python program to multiply all the item in a list"
   ]
  },
  {
   "cell_type": "code",
   "execution_count": 2,
   "metadata": {},
   "outputs": [
    {
     "name": "stdout",
     "output_type": "stream",
     "text": [
      "82620\n"
     ]
    }
   ],
   "source": [
    "a=[10,1,6,3,27,17]\n",
    "m=1\n",
    "for i in a:\n",
    "    m=m*i\n",
    "print(m)"
   ]
  },
  {
   "cell_type": "markdown",
   "metadata": {},
   "source": [
    "write a program to get a largest number from a list."
   ]
  },
  {
   "cell_type": "code",
   "execution_count": 7,
   "metadata": {},
   "outputs": [
    {
     "name": "stdout",
     "output_type": "stream",
     "text": [
      "largest number is :  60\n"
     ]
    }
   ],
   "source": [
    "l=[10,20,30,40,50,60]\n",
    "a=l[0]\n",
    "for i in l:\n",
    "   if i>a:\n",
    "       a=i\n",
    "print (\"largest number is : \",a)"
   ]
  },
  {
   "cell_type": "code",
   "execution_count": null,
   "metadata": {},
   "outputs": [],
   "source": [
    "write a python program to get a smallest number in list"
   ]
  },
  {
   "cell_type": "code",
   "execution_count": 9,
   "metadata": {},
   "outputs": [
    {
     "name": "stdout",
     "output_type": "stream",
     "text": [
      "smallest number is :  9\n"
     ]
    }
   ],
   "source": [
    "l= [15,13,43,456,65,9]\n",
    "a=l[0]\n",
    "for i in l:\n",
    "    if i<a:\n",
    "        a=i\n",
    "print(\"smallest number is : \",a)"
   ]
  },
  {
   "cell_type": "markdown",
   "metadata": {},
   "source": [
    "write a python program to count the number of strings   "
   ]
  },
  {
   "cell_type": "code",
   "execution_count": 16,
   "metadata": {},
   "outputs": [
    {
     "name": "stdout",
     "output_type": "stream",
     "text": [
      "such strings are 2\n"
     ]
    }
   ],
   "source": [
    "l=['abc', 'xyz','aba','1221']\n",
    "count=0\n",
    "for i in l:\n",
    "    if len(i)>=2:\n",
    "        if i[0]==i[len(i)-1]:\n",
    "            count=count+1\n",
    "        else:\n",
    "         pass\n",
    "print(\"such strings are\",count )"
   ]
  },
  {
   "cell_type": "code",
   "execution_count": null,
   "metadata": {},
   "outputs": [],
   "source": []
  }
 ],
 "metadata": {
  "kernelspec": {
   "display_name": "Python 3",
   "language": "python",
   "name": "python3"
  },
  "language_info": {
   "codemirror_mode": {
    "name": "ipython",
    "version": 3
   },
   "file_extension": ".py",
   "mimetype": "text/x-python",
   "name": "python",
   "nbconvert_exporter": "python",
   "pygments_lexer": "ipython3",
   "version": "3.8.5"
  }
 },
 "nbformat": 4,
 "nbformat_minor": 4
}
